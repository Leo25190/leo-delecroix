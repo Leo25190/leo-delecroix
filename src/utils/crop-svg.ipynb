{
 "cells": [
  {
   "cell_type": "code",
   "execution_count": 11,
   "metadata": {},
   "outputs": [],
   "source": [
    "import os\n",
    "\n",
    "def rename_files_in_folder(folder_path, part_to_remove):\n",
    "    for filename in os.listdir(folder_path):\n",
    "        if part_to_remove in filename:\n",
    "            new_filename = filename.replace(part_to_remove, '')\n",
    "            os.rename(os.path.join(folder_path, filename), os.path.join(folder_path, new_filename))"
   ]
  },
  {
   "cell_type": "code",
   "execution_count": 12,
   "metadata": {},
   "outputs": [],
   "source": [
    "part_to_remove = '-cropped'\n",
    "rename_files_in_folder(\"../../public/logos\", part_to_remove)"
   ]
  }
 ],
 "metadata": {
  "kernelspec": {
   "display_name": "Python 3",
   "language": "python",
   "name": "python3"
  },
  "language_info": {
   "codemirror_mode": {
    "name": "ipython",
    "version": 3
   },
   "file_extension": ".py",
   "mimetype": "text/x-python",
   "name": "python",
   "nbconvert_exporter": "python",
   "pygments_lexer": "ipython3",
   "version": "3.12.7"
  }
 },
 "nbformat": 4,
 "nbformat_minor": 2
}
